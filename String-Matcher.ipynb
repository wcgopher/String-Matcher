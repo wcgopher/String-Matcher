{
 "cells": [
  {
   "cell_type": "code",
   "execution_count": 77,
   "metadata": {
    "collapsed": true
   },
   "outputs": [],
   "source": [
    "target = \"methinks it is like a weasel\""
   ]
  },
  {
   "cell_type": "code",
   "execution_count": 78,
   "metadata": {},
   "outputs": [
    {
     "data": {
      "text/plain": [
       "28"
      ]
     },
     "execution_count": 78,
     "metadata": {},
     "output_type": "execute_result"
    }
   ],
   "source": [
    "len(target)"
   ]
  },
  {
   "cell_type": "code",
   "execution_count": 79,
   "metadata": {},
   "outputs": [],
   "source": [
    "import string\n",
    "import random\n",
    "def string_gen():\n",
    "    letters = string.ascii_lowercase + ' '\n",
    "    output = ''\n",
    "    counter = 0\n",
    "    while counter < 28:\n",
    "        let = random.choice(letters)\n",
    "        output += let\n",
    "        counter += 1\n",
    "    return output"
   ]
  },
  {
   "cell_type": "code",
   "execution_count": 80,
   "metadata": {},
   "outputs": [
    {
     "data": {
      "text/plain": [
       "'hkowwkk tbdfextkynrekithehqv'"
      ]
     },
     "execution_count": 80,
     "metadata": {},
     "output_type": "execute_result"
    }
   ],
   "source": [
    "string_gen()"
   ]
  },
  {
   "cell_type": "code",
   "execution_count": 81,
   "metadata": {},
   "outputs": [],
   "source": [
    "def get_score(str1):\n",
    "    target = \"methinks it is a weasel\"\n",
    "    matches = 0\n",
    "    for x,y in zip(target,str1):\n",
    "        if x == y:\n",
    "            matches += 1\n",
    "    return matches/len(str1)\n",
    "     \n"
   ]
  },
  {
   "cell_type": "code",
   "execution_count": null,
   "metadata": {},
   "outputs": [],
   "source": []
  },
  {
   "cell_type": "code",
   "execution_count": 193,
   "metadata": {},
   "outputs": [],
   "source": [
    "import string\n",
    "import random\n",
    "target = \"abcd\"\n",
    "def string_gen():\n",
    "    letters = string.ascii_lowercase + ' '\n",
    "    output = ''\n",
    "    counter = 0\n",
    "    while counter < 4:\n",
    "        let = random.choice(letters)\n",
    "        output += let\n",
    "        counter += 1\n",
    "    return output\n",
    "\n",
    "def get_score(str1):\n",
    "    matches = 0\n",
    "    for x,y in zip(target,str1):\n",
    "        if x == y:\n",
    "            matches += 1\n",
    "    score = matches/len(str1)\n",
    "    return matches, score\n",
    "final = []\n",
    "def main(trials):\n",
    "    best_str = ''\n",
    "    best_score = 0\n",
    "    best_matches = 0\n",
    "    tries = 0\n",
    "    \n",
    "    for trial in range(trials):\n",
    "        str1 = string_gen()\n",
    "        matches,score = get_score(str1)\n",
    "        tries += 1\n",
    "        if score > best_score:\n",
    "            best_score = score\n",
    "            best_str = str1\n",
    "            best_matches = matches\n",
    "    final.append(best_score)\n",
    "    print(\"Target String:                \", target)\n",
    "    print(\"Best String:                  \", best_str)\n",
    "    print(\"Number of matching letters:   \", best_matches)\n",
    "    print(\"Best Score:                   \", best_score)\n",
    "    print(\"Number of tries:              \", tries)\n",
    "    print(final)"
   ]
  },
  {
   "cell_type": "code",
   "execution_count": 203,
   "metadata": {},
   "outputs": [
    {
     "name": "stdout",
     "output_type": "stream",
     "text": [
      "Target String:                 abcd\n",
      "Best String:                   ibcc\n",
      "Number of matching letters:    2\n",
      "Best Score:                    0.5\n",
      "Number of tries:               1000\n",
      "[0.5, 0.5, 0.5, 0.75, 0.5, 0.75, 0.5, 0.5, 0.5, 0.5]\n"
     ]
    }
   ],
   "source": [
    "main(1000)"
   ]
  },
  {
   "cell_type": "code",
   "execution_count": 142,
   "metadata": {},
   "outputs": [
    {
     "name": "stdout",
     "output_type": "stream",
     "text": [
      "0\n",
      "1\n"
     ]
    },
    {
     "data": {
      "text/plain": [
       "0.03571428571428571"
      ]
     },
     "execution_count": 142,
     "metadata": {},
     "output_type": "execute_result"
    }
   ],
   "source": [
    "str1 = string_gen()\n",
    "get_score(str1)"
   ]
  },
  {
   "cell_type": "code",
   "execution_count": null,
   "metadata": {
    "collapsed": true
   },
   "outputs": [],
   "source": []
  }
 ],
 "metadata": {
  "kernelspec": {
   "display_name": "Python 3",
   "language": "python",
   "name": "python3"
  },
  "language_info": {
   "codemirror_mode": {
    "name": "ipython",
    "version": 3
   },
   "file_extension": ".py",
   "mimetype": "text/x-python",
   "name": "python",
   "nbconvert_exporter": "python",
   "pygments_lexer": "ipython3",
   "version": "3.6.3"
  }
 },
 "nbformat": 4,
 "nbformat_minor": 2
}
